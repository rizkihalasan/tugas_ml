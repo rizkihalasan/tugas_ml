{
 "cells": [
  {
   "cell_type": "code",
   "execution_count": 17,
   "metadata": {},
   "outputs": [],
   "source": [
    "import random\n",
    "import numpy as np\n",
    "from sklearn.datasets import load_iris\n",
    "from sklearn import metrics"
   ]
  },
  {
   "cell_type": "code",
   "execution_count": 18,
   "metadata": {},
   "outputs": [],
   "source": [
    "def purity_score(y_true, y_pred):\n",
    "    # compute contingency matrix (also called confusion matrix)\n",
    "    contingency_matrix = metrics.cluster.contingency_matrix(y_true, y_pred)\n",
    "    # return purity\n",
    "    return np.sum(np.amax(contingency_matrix, axis=0)) / np.sum(contingency_matrix) "
   ]
  },
  {
   "cell_type": "code",
   "execution_count": 28,
   "metadata": {},
   "outputs": [],
   "source": [
    "## KMedoids\n",
    "class KMedoids:\n",
    "    def __init__(self, n_cluster=2, random_state=None):\n",
    "        self.n_cluster = n_cluster\n",
    "        self.list_cluster = []\n",
    "        self.random_state = int(random_state)\n",
    "    def make_list_cluster(self, X):\n",
    "        list_cluster = []\n",
    "        used_index = []\n",
    "        cluster = 0\n",
    "        random.seed(self.random_state)\n",
    "        while cluster < (self.n_cluster):\n",
    "            random_index = random.randint(0, len(X)-1)\n",
    "            if not random_index in used_index:\n",
    "                list_cluster.append(X[random_index])\n",
    "                used_index.append(random_index)\n",
    "                cluster += 1\n",
    "            self.list_cluster = list_cluster\n",
    "        return list_cluster\n",
    "    def count_distance(self, X, cluster):\n",
    "        distance = 0\n",
    "        for i in range(len(X)):\n",
    "            distance = distance + abs(X[i] - cluster[i])\n",
    "        return distance\n",
    "    def assign_objects_cluster(self, X):\n",
    "        objects_cluster = []\n",
    "        list_cluster = self.make_list_cluster(X)\n",
    "        for data in X:\n",
    "            distance = []\n",
    "            for cluster in list_cluster:\n",
    "                distance.append(self.count_distance(data, cluster))\n",
    "            index_min_distance = np.argmin(distance)\n",
    "            objects_cluster.append(list_cluster[index_min_distance])\n",
    "        return objects_cluster\n",
    "    def count_cost(self, X, cluster):\n",
    "        return self.count_distance(X, cluster)\n",
    "    def randomize_cluster(self, X, cluster, changed_index):\n",
    "        i = 0\n",
    "        changed = False\n",
    "        while(changed == False):\n",
    "            if(X[i] not in cluster and i < len(X)):\n",
    "                cluster[changed_index] = X[i]\n",
    "                changed = True\n",
    "            i += 1\n",
    "        self.list_cluster = cluster\n",
    "        return cluster\n",
    "    def fit(self, X):\n",
    "        list_cluster = self.make_list_cluster(X)\n",
    "        objects_cluster = self.assign_objects_cluster(X)\n",
    "        before_cost = 999999999\n",
    "        final_cost = 99999999\n",
    "        i = 1\n",
    "        while(before_cost >= final_cost and i<=2):\n",
    "            before_cost = final_cost\n",
    "            cost = 0\n",
    "            for i in range(len(list_cluster)):\n",
    "                cost += self.count_cost(list_cluster[i], objects_cluster[i])\n",
    "            final_cost = cost\n",
    "            random.seed(self.random_state)\n",
    "            random_index = random.randint(0, len(list_cluster)-1)\n",
    "            list_cluster_before = list_cluster.copy()\n",
    "            list_cluster = self.randomize_cluster(X, list_cluster, random_index)\n",
    "            i += 1\n",
    "        self.list_cluster = list_cluster_before\n",
    "        return list_cluster_before\n",
    "    def predict(self, X):\n",
    "        result = []\n",
    "        for data in X:\n",
    "            cost = []\n",
    "            for cluster in self.list_cluster:\n",
    "                cost.append(self.count_distance(data, cluster))\n",
    "            index_min_cost = np.argmin(cost)\n",
    "            result.append(index_min_cost)\n",
    "        return result"
   ]
  },
  {
   "cell_type": "code",
   "execution_count": 31,
   "metadata": {
    "scrolled": true
   },
   "outputs": [
    {
     "name": "stdout",
     "output_type": "stream",
     "text": [
      "cluster hasil fit :  [[201, 203, 205, 207], [5, 6, 7, 8]]\n",
      "predict cluster :  [1, 1, 0, 0]\n"
     ]
    }
   ],
   "source": [
    "k_medoids = KMedoids(n_cluster=2, random_state=14)\n",
    "X = [[1, 2, 3, 4], [5, 6, 7, 8], [201, 203, 205, 207], [200, 202, 204, 206]]\n",
    "cluster = k_medoids.make_list_cluster(X)\n",
    "\n",
    "print('cluster hasil fit : ', k_medoids.fit(X))\n",
    "print('predict cluster : ', k_medoids.predict(X))"
   ]
  },
  {
   "cell_type": "code",
   "execution_count": null,
   "metadata": {},
   "outputs": [],
   "source": []
  },
  {
   "cell_type": "code",
   "execution_count": 8,
   "metadata": {},
   "outputs": [
    {
     "data": {
      "text/plain": [
       "array([[  1,   2,   3,   4],\n",
       "       [  5,   6,   7,   8],\n",
       "       [201, 203, 205, 207],\n",
       "       [200, 202, 204, 206]])"
      ]
     },
     "execution_count": 8,
     "metadata": {},
     "output_type": "execute_result"
    }
   ],
   "source": [
    "np.array(X)"
   ]
  },
  {
   "cell_type": "code",
   "execution_count": 24,
   "metadata": {},
   "outputs": [
    {
     "name": "stdout",
     "output_type": "stream",
     "text": [
      "purity :  0.9\n"
     ]
    }
   ],
   "source": [
    "iris = load_iris()\n",
    "X_iris = iris.data.tolist()\n",
    "y_iris = iris.target\n",
    "k_medoids = KMedoids(n_cluster=3, random_state=14)\n",
    "k_medoids.fit(X_iris)\n",
    "predict_iris = np.array(k_medoids.predict(X_iris))\n",
    "print('purity : ', purity_score(y_iris, predict_iris))"
   ]
  },
  {
   "cell_type": "code",
   "execution_count": 27,
   "metadata": {},
   "outputs": [
    {
     "data": {
      "text/plain": [
       "array([0, 0, 0, 0, 0, 0, 0, 0, 0, 0, 0, 0, 0, 0, 0, 0, 0, 0, 0, 0, 0, 0,\n",
       "       0, 0, 0, 0, 0, 0, 0, 0, 0, 0, 0, 0, 0, 0, 0, 0, 0, 0, 0, 0, 0, 0,\n",
       "       0, 0, 0, 0, 0, 0, 1, 1, 1, 1, 1, 1, 1, 1, 1, 1, 1, 1, 1, 1, 1, 1,\n",
       "       1, 1, 1, 1, 1, 1, 1, 1, 1, 1, 1, 1, 1, 1, 1, 1, 1, 1, 1, 1, 1, 1,\n",
       "       1, 1, 1, 1, 1, 1, 1, 1, 1, 1, 1, 1, 2, 2, 2, 2, 2, 2, 2, 2, 2, 2,\n",
       "       2, 2, 2, 2, 2, 2, 2, 2, 2, 2, 2, 2, 2, 2, 2, 2, 2, 2, 2, 2, 2, 2,\n",
       "       2, 2, 2, 2, 2, 2, 2, 2, 2, 2, 2, 2, 2, 2, 2, 2, 2, 2])"
      ]
     },
     "execution_count": 27,
     "metadata": {},
     "output_type": "execute_result"
    }
   ],
   "source": [
    "y_iris"
   ]
  },
  {
   "cell_type": "code",
   "execution_count": 26,
   "metadata": {},
   "outputs": [
    {
     "data": {
      "text/plain": [
       "array([0, 0, 0, 0, 0, 0, 0, 0, 0, 0, 0, 0, 0, 0, 0, 0, 0, 0, 0, 0, 0, 0,\n",
       "       0, 0, 0, 0, 0, 0, 0, 0, 0, 0, 0, 0, 0, 0, 0, 0, 0, 0, 0, 0, 0, 0,\n",
       "       0, 0, 0, 0, 0, 0, 2, 2, 2, 2, 2, 2, 2, 2, 2, 2, 2, 2, 2, 2, 2, 2,\n",
       "       2, 2, 2, 2, 2, 2, 2, 2, 2, 2, 2, 2, 2, 2, 2, 2, 2, 2, 2, 2, 2, 2,\n",
       "       2, 2, 2, 2, 2, 2, 2, 2, 2, 2, 2, 2, 1, 2, 1, 1, 1, 1, 2, 1, 1, 1,\n",
       "       2, 1, 1, 1, 2, 1, 1, 1, 1, 1, 1, 2, 1, 2, 1, 1, 2, 2, 1, 1, 1, 1,\n",
       "       1, 2, 1, 1, 1, 1, 2, 1, 1, 2, 2, 1, 1, 2, 1, 2, 1, 2], dtype=int64)"
      ]
     },
     "execution_count": 26,
     "metadata": {},
     "output_type": "execute_result"
    }
   ],
   "source": [
    "predict_iris"
   ]
  },
  {
   "cell_type": "code",
   "execution_count": null,
   "metadata": {},
   "outputs": [],
   "source": []
  }
 ],
 "metadata": {
  "kernelspec": {
   "display_name": "Python 3",
   "language": "python",
   "name": "python3"
  },
  "language_info": {
   "codemirror_mode": {
    "name": "ipython",
    "version": 3
   },
   "file_extension": ".py",
   "mimetype": "text/x-python",
   "name": "python",
   "nbconvert_exporter": "python",
   "pygments_lexer": "ipython3",
   "version": "3.6.5"
  }
 },
 "nbformat": 4,
 "nbformat_minor": 2
}
