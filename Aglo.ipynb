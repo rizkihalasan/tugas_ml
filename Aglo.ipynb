{
 "cells": [
  {
   "cell_type": "code",
   "execution_count": 1,
   "metadata": {},
   "outputs": [
    {
     "name": "stdout",
     "output_type": "stream",
     "text": [
      "[1, 2, 0, 1, 0, 0, 2, 1]\n"
     ]
    }
   ],
   "source": [
    "import heapq\n",
    "\n",
    "class Agglomerative:\n",
    "    def __init__(self, **kwargs):\n",
    "        if 'n_clusters' in kwargs:\n",
    "            self.n_clusters = int(kwargs['n_clusters'])\n",
    "        self.labels_ = []\n",
    "        if 'linkage' in kwargs:\n",
    "            if kwargs['linkage'] == 'complete':\n",
    "                self.helper = self.complete\n",
    "            elif kwargs['linkage'] == 'single':\n",
    "                self.helper = self.single\n",
    "            elif kwargs['linkage'] == 'average':\n",
    "                self.helper = self.average\n",
    "            elif kwargs['linkage'] == 'average_group':\n",
    "                self.helper = self.average_group\n",
    "    \n",
    "    def euclidian_distance(self, A, B):\n",
    "        res = 0\n",
    "        for i in range(len(A)):\n",
    "            res += (A[i]-B[i]) ** 2\n",
    "        return res ** 0.5\n",
    "    \n",
    "    def complete(self, data, a, b):\n",
    "        result = None\n",
    "        for i in a:\n",
    "            for j in b:\n",
    "                dist = self.euclidian_distance(data[i],data[j])\n",
    "                if result is None :\n",
    "                    result = dist\n",
    "                elif dist > result :\n",
    "                    result = dist\n",
    "        return result\n",
    "    \n",
    "    def single(self, data, a, b):\n",
    "        result = None\n",
    "        for i in a:\n",
    "            for j in b:\n",
    "                dist = self.euclidian_distance(data[i],data[j])\n",
    "                if result is None :\n",
    "                    result = dist\n",
    "                elif dist < result :\n",
    "                    result = dist\n",
    "        return result\n",
    "    \n",
    "    def average_group(self, data, a, b):\n",
    "        result = 0\n",
    "        for i in a:\n",
    "            for j in b:\n",
    "                dist = self.euclidian_distance(data[i],data[j])\n",
    "                result += dist\n",
    "        return result / (len(a) * len(b))\n",
    "    \n",
    "    def average(self, data, a, b):\n",
    "        #find each centroid\n",
    "        cen = [[0 for i in range(len(data[a[0]]))] for j in range(2)]\n",
    "        for i in a:\n",
    "            for j in range(len(data[i])):\n",
    "                cen[0][j] += data[i][j]\n",
    "        for j in range(len(data[a[0]])):\n",
    "            cen[0][j] = cen[0][j] / len(a)\n",
    "        for i in b:\n",
    "            for j in range(len(data[i])):\n",
    "                cen[1][j] += data[i][j]\n",
    "        for j in range(len(data[b[0]])):\n",
    "            cen[1][j] = cen[1][j] / len(b)\n",
    "        return self.euclidian_distance(cen[0],cen[1])\n",
    "    \n",
    "    def fit(self, data):\n",
    "        clusters = [[i] for i in range(len(data))]\n",
    "        counter = 0\n",
    "        prio = []\n",
    "        cluster_mapping = dict()\n",
    "        for i in range(len(clusters)) :\n",
    "            cluster_mapping.update({i : [i]})\n",
    "        \n",
    "        for i in range(len(clusters)) :\n",
    "            for j in range(i+1, len(clusters)):\n",
    "                heapq.heappush(prio, (self.helper(data,cluster_mapping[i],cluster_mapping[j]), (i,j)))\n",
    "\n",
    "        while(len(cluster_mapping) > self.n_clusters):\n",
    "            counter += 1\n",
    "            #keluarkan pertama\n",
    "            first = heapq.heappop(prio)\n",
    "            #aglo\n",
    "            popped1 = cluster_mapping.pop(first[1][0])\n",
    "            popped2 = cluster_mapping.pop(first[1][1])\n",
    "\n",
    "            #delete unnecesarry data\n",
    "            prio = list(filter(lambda x: not((x[1][0] == first[1][0]) or (x[1][1] == first[1][0]) or (x[1][0] == first[1][1]) or (x[1][1] == first[1][1])),prio)) \n",
    "\n",
    "            heapq.heapify(prio)\n",
    "\n",
    "            newpopped = popped1 + popped2\n",
    "\n",
    "            val = list(cluster_mapping.values())\n",
    "            #add new data\n",
    "            for key, value in cluster_mapping.items():\n",
    "                heapq.heappush(prio, (self.helper(data,value,newpopped), (key,first[1][0])))\n",
    "\n",
    "            cluster_mapping[first[1][0]] = newpopped\n",
    "        \n",
    "        #transposing\n",
    "        self.labels_ = [0 for i in range(len(data))]\n",
    "        cluster_mapping = list(cluster_mapping.values())\n",
    "        for key in range(len(cluster_mapping)):\n",
    "            for v in cluster_mapping[key]:\n",
    "                self.labels_[v] = key\n",
    "            \n",
    "        \n",
    "\n",
    "hehe = Agglomerative(n_clusters=3, linkage='average_group')\n",
    "A = [[2, 10],[2, 5],[8, 4],[5, 8],[7, 5],[6,4],[1,2],[4,9]]\n",
    "hehe.fit(A)\n",
    "print(hehe.labels_)\n"
   ]
  },
  {
   "cell_type": "code",
   "execution_count": 2,
   "metadata": {},
   "outputs": [
    {
     "name": "stdout",
     "output_type": "stream",
     "text": [
      "[0, 0, 0, 0, 0, 0, 0, 0, 0, 0, 0, 0, 0, 0, 0, 0, 0, 0, 0, 0, 0, 0, 0, 0, 0, 0, 0, 0, 0, 0, 0, 0, 0, 0, 0, 0, 0, 0, 0, 0, 0, 0, 0, 0, 0, 0, 0, 0, 0, 0, 2, 2, 2, 2, 2, 2, 2, 2, 2, 2, 2, 2, 2, 2, 2, 2, 2, 2, 2, 2, 2, 2, 2, 2, 2, 2, 2, 2, 2, 2, 2, 2, 2, 2, 2, 2, 2, 2, 2, 2, 2, 2, 2, 2, 2, 2, 2, 2, 2, 2, 1, 2, 1, 1, 1, 1, 2, 1, 1, 1, 1, 1, 1, 2, 2, 1, 1, 1, 1, 2, 1, 2, 1, 2, 1, 1, 2, 2, 1, 1, 1, 1, 1, 2, 1, 1, 1, 1, 2, 1, 1, 1, 2, 1, 1, 1, 2, 1, 1, 2]\n"
     ]
    }
   ],
   "source": [
    "from sklearn import datasets\n",
    "iris = datasets.load_iris()\n",
    "hehe.fit(iris.data.tolist())\n",
    "print(hehe.labels_)"
   ]
  },
  {
   "cell_type": "code",
   "execution_count": 3,
   "metadata": {},
   "outputs": [
    {
     "name": "stdout",
     "output_type": "stream",
     "text": [
      "[0 0 0 0 0 0 0 0 0 0 0 0 0 0 0 0 0 0 0 0 0 0 0 0 0 0 0 0 0 0 0 0 0 0 0 0 0\n",
      " 0 0 0 0 0 0 0 0 0 0 0 0 0 1 1 1 1 1 1 1 1 1 1 1 1 1 1 1 1 1 1 1 1 1 1 1 1\n",
      " 1 1 1 1 1 1 1 1 1 1 1 1 1 1 1 1 1 1 1 1 1 1 1 1 1 1 2 2 2 2 2 2 2 2 2 2 2\n",
      " 2 2 2 2 2 2 2 2 2 2 2 2 2 2 2 2 2 2 2 2 2 2 2 2 2 2 2 2 2 2 2 2 2 2 2 2 2\n",
      " 2 2]\n",
      "[[50, 0, 0], [0, 0, 50], [0, 36, 14]]\n"
     ]
    }
   ],
   "source": [
    "print (iris.target)\n",
    "\n",
    "calc = [[0 for j in range(3)] for i in range(3)]\n",
    "\n",
    "for i in range(len(hehe.labels_)):\n",
    "    calc[iris.target[i]][hehe.labels_[i]] += 1\n",
    "\n",
    "print(calc)"
   ]
  },
  {
   "cell_type": "code",
   "execution_count": null,
   "metadata": {},
   "outputs": [],
   "source": []
  }
 ],
 "metadata": {
  "kernelspec": {
   "display_name": "Python 3",
   "language": "python",
   "name": "python3"
  },
  "language_info": {
   "codemirror_mode": {
    "name": "ipython",
    "version": 3
   },
   "file_extension": ".py",
   "mimetype": "text/x-python",
   "name": "python",
   "nbconvert_exporter": "python",
   "pygments_lexer": "ipython3",
   "version": "3.6.5"
  }
 },
 "nbformat": 4,
 "nbformat_minor": 2
}
