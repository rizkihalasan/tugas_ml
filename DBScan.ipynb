{
 "cells": [
  {
   "cell_type": "code",
   "execution_count": 6,
   "metadata": {},
   "outputs": [],
   "source": [
    "import numpy as np\n",
    "from sklearn.metrics.pairwise import euclidean_distances, manhattan_distances"
   ]
  },
  {
   "cell_type": "code",
   "execution_count": 97,
   "metadata": {},
   "outputs": [],
   "source": [
    "class DBScan :\n",
    "    __neighborhood = []\n",
    "    __centroids = []\n",
    "    __curr_cluster_label = 0\n",
    "    __labels = []\n",
    "    \n",
    "    def __init__(self, eps, minPts, metrics=\"euclidean\") :\n",
    "        if metrics == \"euclidean\" :\n",
    "            self.distanceFunction = euclidean_distances\n",
    "        elif (metrics == \"manhattan\") :\n",
    "            self.distanceFunction = manhattan_distances\n",
    "        else :\n",
    "            raise Exception('Doesn\\'t support '+ metrics + ' metrics. Try euclidean or manhattan')\n",
    "        \n",
    "        self.eps = eps\n",
    "        self.minPts = minPts\n",
    "    \n",
    "    # Count distance every point to other points\n",
    "    # Distance calculated according to self.distanceFunction\n",
    "    # if distance <= eps add to matriks of neighbours\n",
    "    # Matrix of neighbours[i, j] :\n",
    "    #    i               - index of the point\n",
    "    #    j               - index f other point\n",
    "    #    value of matrix - distances point i and j\n",
    "    def _pre_set_neighbor(self, data) :\n",
    "        row, column = data.shape\n",
    "        distanceMatrix = self.distanceFunction(data, data)\n",
    "        for i in range(row) :\n",
    "            # Initialize neighborhood of this point as [] (empty array)\n",
    "            self.__neighborhood.append([])\n",
    "            for j in range(row) :\n",
    "                if (distanceMatrix[i, j] <= self.eps) :\n",
    "                    self.__neighborhood[i].append(j)\n",
    "        \n",
    "    # Method for getting all centroid from all neighborhood\n",
    "    # Centroid set if length of neighborhood array >= minPts\n",
    "    def _find_centroids(self) :\n",
    "        for i in range(0, len(self.__neighborhood)) :\n",
    "            if (len(self.__neighborhood[i]) >= self.minPts) :\n",
    "                self.__centroids.append(i)\n",
    "    \n",
    "    # Method for assignning cluster label of every point\n",
    "    # Point which not in centroid array, automatically labelled as outlier\n",
    "    def _set_label(self, labels) :\n",
    "        # If label of point already not -1 anymore, pass this point\n",
    "        temporary_centroid = self.__centroids.copy()\n",
    "        \n",
    "        for i in self.__centroids :\n",
    "            if (labels[i] == -1) :\n",
    "                processing_point = [i]\n",
    "                \n",
    "                while len(processing_point) > 0 :\n",
    "                    curr_processed_point = processing_point.pop()\n",
    "                    labels[curr_processed_point] = self.__curr_cluster_label\n",
    "#                     print(curr_processed_point, self.__curr_cluster_label)\n",
    "                    \n",
    "                    if curr_processed_point in temporary_centroid :\n",
    "                        temporary_centroid.remove(curr_processed_point)\n",
    "                        for neigh in self.__neighborhood[curr_processed_point] :\n",
    "                            if (labels[neigh] == -1) :\n",
    "                                processing_point.append(neigh)\n",
    "                                       \n",
    "                self.__curr_cluster_label += 1\n",
    "                                   \n",
    "        return labels\n",
    "    \n",
    "    def fit(self, data) :\n",
    "        self._pre_set_neighbor(data)\n",
    "        self._find_centroids()\n",
    "        \n",
    "        labels = [-1] * len(data) # Initialize all data as an outlier\n",
    "        self.__labels = self._set_label(labels)\n",
    "        \n",
    "    def getLabels(self) :\n",
    "        return np.array(self.__labels)"
   ]
  },
  {
   "cell_type": "code",
   "execution_count": 82,
   "metadata": {},
   "outputs": [],
   "source": [
    "from sklearn.datasets import load_iris\n",
    "\n",
    "iris = load_iris()\n",
    "iris = iris.data"
   ]
  },
  {
   "cell_type": "code",
   "execution_count": 98,
   "metadata": {},
   "outputs": [
    {
     "name": "stdout",
     "output_type": "stream",
     "text": [
      "[ 0  0  0  0  0  0  0  0  0  0  0  0  0  0  0  0  0  0  0  0  0  0  0  0\n",
      "  0  0  0  0  0  0  0  0  0  0  0  0  0  0  0  0  0 -1  0  0  0  0  0  0\n",
      "  0  0  1  1  1  1  1  1  1  2  1  1  2  1  1  1  1  1  1  1 -1  1  1  1\n",
      "  1  1  1  1  1  1  1  1  1  1  1  1  1  1  1 -1  1  1  1  1  1  2  1  1\n",
      "  1  1  2  1  1  1  1  1  1 -1 -1  1 -1 -1  1  1  1  1  1  1  1 -1 -1  1\n",
      "  1  1 -1  1  1  1  1  1  1  1  1 -1  1  1 -1 -1  1  1  1  1  1  1  1  1\n",
      "  1  1  1  1  1  1]\n"
     ]
    }
   ],
   "source": [
    "model = DBScan(0.5, 4)\n",
    "model.fit(iris)\n",
    "print(model.getLabels())"
   ]
  },
  {
   "cell_type": "code",
   "execution_count": 60,
   "metadata": {},
   "outputs": [],
   "source": [
    "from sklearn.cluster import DBSCAN as DBSCAN_SKLEARN"
   ]
  },
  {
   "cell_type": "code",
   "execution_count": 90,
   "metadata": {},
   "outputs": [
    {
     "name": "stdout",
     "output_type": "stream",
     "text": [
      "[ 0  0  0  0  0  0  0  0  0  0  0  0  0  0  0  0  0  0  0  0  0  0  0  0\n",
      "  0  0  0  0  0  0  0  0  0  0  0  0  0  0  0  0  0 -1  0  0  0  0  0  0\n",
      "  0  0  1  1  1  1  1  1  1  2  1  1  2  1  1  1  1  1  1  1 -1  1  1  1\n",
      "  1  1  1  1  1  1  1  1  1  1  1  1  1  1  1 -1  1  1  1  1  1  2  1  1\n",
      "  1  1  2  1  1  1  1  1  1 -1 -1  1 -1 -1  1  1  1  1  1  1  1 -1 -1  1\n",
      "  1  1 -1  1  1  1  1  1  1  1  1 -1  1  1 -1 -1  1  1  1  1  1  1  1  1\n",
      "  1  1  1  1  1  1]\n"
     ]
    }
   ],
   "source": [
    "dbscan_sklearn = DBSCAN_SKLEARN(eps=0.5, min_samples=4).fit(iris)\n",
    "print (dbscan_sklearn.labels_)"
   ]
  },
  {
   "cell_type": "markdown",
   "metadata": {},
   "source": [
    "### Check if true"
   ]
  },
  {
   "cell_type": "code",
   "execution_count": 99,
   "metadata": {},
   "outputs": [
    {
     "name": "stdout",
     "output_type": "stream",
     "text": [
      "[ True  True  True  True  True  True  True  True  True  True  True  True\n",
      "  True  True  True  True  True  True  True  True  True  True  True  True\n",
      "  True  True  True  True  True  True  True  True  True  True  True  True\n",
      "  True  True  True  True  True  True  True  True  True  True  True  True\n",
      "  True  True  True  True  True  True  True  True  True  True  True  True\n",
      "  True  True  True  True  True  True  True  True  True  True  True  True\n",
      "  True  True  True  True  True  True  True  True  True  True  True  True\n",
      "  True  True  True  True  True  True  True  True  True  True  True  True\n",
      "  True  True  True  True  True  True  True  True  True  True  True  True\n",
      "  True  True  True  True  True  True  True  True  True  True  True  True\n",
      "  True  True  True  True  True  True  True  True  True  True  True  True\n",
      "  True  True  True  True  True  True  True  True  True  True  True  True\n",
      "  True  True  True  True  True  True]\n"
     ]
    }
   ],
   "source": [
    "print (dbscan_sklearn.labels_ == model.getLabels())"
   ]
  },
  {
   "cell_type": "code",
   "execution_count": null,
   "metadata": {},
   "outputs": [],
   "source": []
  }
 ],
 "metadata": {
  "kernelspec": {
   "display_name": "Python 3",
   "language": "python",
   "name": "python3"
  },
  "language_info": {
   "codemirror_mode": {
    "name": "ipython",
    "version": 3
   },
   "file_extension": ".py",
   "mimetype": "text/x-python",
   "name": "python",
   "nbconvert_exporter": "python",
   "pygments_lexer": "ipython3",
   "version": "3.6.5"
  }
 },
 "nbformat": 4,
 "nbformat_minor": 2
}
