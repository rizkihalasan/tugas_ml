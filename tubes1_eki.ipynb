{
 "cells": [
  {
   "cell_type": "code",
   "execution_count": 36,
   "metadata": {},
   "outputs": [],
   "source": [
    "from random import randint"
   ]
  },
  {
   "cell_type": "code",
   "execution_count": 647,
   "metadata": {},
   "outputs": [],
   "source": [
    "## KMedoids\n",
    "class KMedoids:\n",
    "    def __init__(self, **kwargs):\n",
    "        self.n_cluster = int(kwargs['n_cluster'])\n",
    "        self.list_cluster = []\n",
    "    def make_list_cluster(self, X):\n",
    "        list_cluster = []\n",
    "        used_index = []\n",
    "        cluster = 0\n",
    "        while cluster < (self.n_cluster):\n",
    "            random_index = randint(0, len(X)-1)\n",
    "            if not random_index in used_index:\n",
    "                list_cluster.append(X[random_index])\n",
    "                used_index.append(random_index)\n",
    "                cluster += 1\n",
    "            self.list_cluster = list_cluster\n",
    "        return list_cluster\n",
    "    def count_distance(self, X, cluster):\n",
    "        distance = 0\n",
    "        for i in range(len(X)):\n",
    "            distance = distance + abs(X[i] - cluster[i])\n",
    "        return distance\n",
    "    def assign_objects_cluster(self, X):\n",
    "        objects_cluster = []\n",
    "        ## get list_cluster\n",
    "        list_cluster = self.make_list_cluster(X)\n",
    "#         print('cluster awal : ', list_cluster)\n",
    "        for data in X:\n",
    "            distance = []\n",
    "#             print(list_cluster)\n",
    "            for cluster in list_cluster:\n",
    "                distance.append(self.count_distance(data, cluster))\n",
    "            index_min_distance = np.argmin(distance)\n",
    "            objects_cluster.append(list_cluster[index_min_distance])\n",
    "        return objects_cluster\n",
    "    def count_cost(self, X, cluster):\n",
    "        return self.count_distance(X, cluster)\n",
    "    def randomize_cluster(self, X, cluster, changed_index):\n",
    "        i = 0\n",
    "        changed = False\n",
    "        while(changed == False):\n",
    "#             print('X ke i : ', X[i])\n",
    "#             print('cluster : ', cluster)\n",
    "            if(X[i] not in cluster and i < len(X)):\n",
    "#                 print('changed_index :', changed_index)\n",
    "#                 print('i : ', i)\n",
    "                cluster[changed_index] = X[i]\n",
    "                changed = True\n",
    "            i += 1\n",
    "        self.list_cluster = cluster\n",
    "        return cluster\n",
    "    def fit(self, X):\n",
    "        list_cluster = self.make_list_cluster(X)\n",
    "        objects_cluster = self.assign_objects_cluster(X)\n",
    "        before_cost = 999999999\n",
    "        final_cost = 99999999\n",
    "        i = 1\n",
    "        while(before_cost >= final_cost and i<=4):\n",
    "            before_cost = final_cost\n",
    "            cost = 0\n",
    "            for i in range(len(list_cluster)):\n",
    "                cost += self.count_cost(list_cluster[i], objects_cluster[i])\n",
    "            final_cost = cost\n",
    "            random_index = randint(0, len(list_cluster)-1)\n",
    "            list_cluster_before = list_cluster.copy()\n",
    "#             print('cluster sebelum dirandom : ', list_cluster)\n",
    "#             print('cost sebelum : ', before_cost)\n",
    "            list_cluster = self.randomize_cluster(X, list_cluster, random_index)\n",
    "#             print('cluster sesudah dirandom : ', list_cluster)\n",
    "#             print('cost sesudah : ', final_cost)\n",
    "            i += 1\n",
    "        self.list_cluster = list_cluster_before\n",
    "        return list_cluster_before\n",
    "    def predict(self, X):\n",
    "        result = []\n",
    "        for data in X:\n",
    "            cost = []\n",
    "            for cluster in self.list_cluster:\n",
    "                cost.append(self.count_distance(data, cluster))\n",
    "            index_min_cost = np.argmin(cost)\n",
    "            result.append(index_min_cost)\n",
    "        return result"
   ]
  },
  {
   "cell_type": "code",
   "execution_count": 648,
   "metadata": {
    "scrolled": true
   },
   "outputs": [
    {
     "name": "stdout",
     "output_type": "stream",
     "text": [
      "cluster hasil fit :  [[201, 203, 205, 207], [1, 2, 3, 4]]\n",
      "predict cluster :  [1, 1, 0, 0]\n"
     ]
    }
   ],
   "source": [
    "k_medoids = KMedoids(n_cluster=2)\n",
    "X = [[1, 2, 3, 4], [5, 6, 7, 8], [201, 203, 205, 207], [200, 202, 204, 206]]\n",
    "# print('data : ', X)\n",
    "cluster = k_medoids.make_list_cluster(X)\n",
    "# print('cluster data : ', k_medoids.assign_objects_cluster(X))\n",
    "# print('randomize_cluster')\n",
    "# print('cluster awal : ', cluster)\n",
    "# print('cluster random : ', k_medoids.randomize_cluster(X, cluster, 0))\n",
    "print('cluster hasil fit : ', k_medoids.fit(X))\n",
    "print('predict cluster : ', k_medoids.predict(X))"
   ]
  }
 ],
 "metadata": {
  "kernelspec": {
   "display_name": "Python 3",
   "language": "python",
   "name": "python3"
  },
  "language_info": {
   "codemirror_mode": {
    "name": "ipython",
    "version": 3
   },
   "file_extension": ".py",
   "mimetype": "text/x-python",
   "name": "python",
   "nbconvert_exporter": "python",
   "pygments_lexer": "ipython3",
   "version": "3.6.5"
  }
 },
 "nbformat": 4,
 "nbformat_minor": 2
}
